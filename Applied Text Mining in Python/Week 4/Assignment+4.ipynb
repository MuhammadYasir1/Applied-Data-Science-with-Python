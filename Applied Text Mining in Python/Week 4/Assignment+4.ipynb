{
 "cells": [
  {
   "cell_type": "markdown",
   "metadata": {},
   "source": [
    "---\n",
    "\n",
    "_You are currently looking at **version 1.0** of this notebook. To download notebooks and datafiles, as well as get help on Jupyter notebooks in the Coursera platform, visit the [Jupyter Notebook FAQ](https://www.coursera.org/learn/python-text-mining/resources/d9pwm) course resource._\n",
    "\n",
    "---"
   ]
  },
  {
   "cell_type": "markdown",
   "metadata": {},
   "source": [
    "# Assignment 4 - Document Similarity & Topic Modelling"
   ]
  },
  {
   "cell_type": "markdown",
   "metadata": {},
   "source": [
    "## Part 1 - Document Similarity\n",
    "\n",
    "For the first part of this assignment, you will complete the functions `doc_to_synsets` and `similarity_score` which will be used by `document_path_similarity` to find the path similarity between two documents.\n",
    "\n",
    "The following functions are provided:\n",
    "* **`convert_tag:`** converts the tag given by `nltk.pos_tag` to a tag used by `wordnet.synsets`. You will need to use this function in `doc_to_synsets`.\n",
    "* **`document_path_similarity:`** computes the symmetrical path similarity between two documents by finding the synsets in each document using `doc_to_synsets`, then computing similarities using `similarity_score`.\n",
    "\n",
    "You will need to finish writing the following functions:\n",
    "* **`doc_to_synsets:`** returns a list of synsets in document. This function should first tokenize and part of speech tag the document using `nltk.word_tokenize` and `nltk.pos_tag`. Then it should find each tokens corresponding synset using `wn.synsets(token, wordnet_tag)`. The first synset match should be used. If there is no match, that token is skipped.\n",
    "* **`similarity_score:`** returns the normalized similarity score of a list of synsets (s1) onto a second list of synsets (s2). For each synset in s1, find the synset in s2 with the largest similarity value. Sum all of the largest similarity values together and normalize this value by dividing it by the number of largest similarity values found. Be careful with data types, which should be floats. Missing values should be ignored.\n",
    "\n",
    "Once `doc_to_synsets` and `similarity_score` have been completed, submit to the autograder which will run `test_document_path_similarity` to test that these functions are running correctly. \n",
    "\n",
    "*Do not modify the functions `convert_tag`, `document_path_similarity`, and `test_document_path_similarity`.*"
   ]
  },
  {
   "cell_type": "code",
   "execution_count": 1,
   "metadata": {},
   "outputs": [
    {
     "name": "stdout",
     "output_type": "stream",
     "text": [
      "[nltk_data] Downloading package punkt to /home/jovyan/nltk_data...\n",
      "[nltk_data]   Unzipping tokenizers/punkt.zip.\n",
      "[nltk_data] Downloading package averaged_perceptron_tagger to\n",
      "[nltk_data]     /home/jovyan/nltk_data...\n",
      "[nltk_data]   Unzipping taggers/averaged_perceptron_tagger.zip.\n",
      "[nltk_data] Downloading package wordnet to /home/jovyan/nltk_data...\n",
      "[nltk_data]   Unzipping corpora/wordnet.zip.\n"
     ]
    }
   ],
   "source": [
    "import numpy as np\n",
    "import nltk\n",
    "from nltk.corpus import wordnet as wn\n",
    "import pandas as pd\n",
    "nltk.download('punkt')\n",
    "nltk.download('averaged_perceptron_tagger')\n",
    "nltk.download('wordnet')\n",
    "\n",
    "def convert_tag(tag):\n",
    "    \"\"\"Convert the tag given by nltk.pos_tag to the tag used by wordnet.synsets\"\"\"\n",
    "    \n",
    "    tag_dict = {'N': 'n', 'J': 'a', 'R': 'r', 'V': 'v'}\n",
    "    try:\n",
    "        return tag_dict[tag[0]]\n",
    "    except KeyError:\n",
    "        return None\n",
    "\n",
    "\n",
    "def doc_to_synsets(doc):\n",
    "    \"\"\"\n",
    "    Returns a list of synsets in document.\n",
    "\n",
    "    Tokenizes and tags the words in the document doc.\n",
    "    Then finds the first synset for each word/tag combination.\n",
    "    If a synset is not found for that combination it is skipped.\n",
    "\n",
    "    Args:\n",
    "        doc: string to be converted\n",
    "\n",
    "    Returns:\n",
    "        list of synsets\n",
    "\n",
    "    Example:\n",
    "        doc_to_synsets('Fish are nvqjp friends.')\n",
    "        Out: [Synset('fish.n.01'), Synset('be.v.01'), Synset('friend.n.01')]\n",
    "    \"\"\"\n",
    "    tokens=nltk.word_tokenize(doc)\n",
    "    tags=nltk.pos_tag(doc)\n",
    "    converted_tags=[convert_tag(ite) for ite in tags]\n",
    "    \n",
    "    synsets=[]\n",
    "    \n",
    "    for token,tag in zip(tokens,converted_tags):\n",
    "        if wn.synsets(token,tag)!=[]:\n",
    "            synsets.append(wn.synsets(token, tag))\n",
    "            \n",
    "    flat_list = []\n",
    "    for sublist in synsets:\n",
    "        for item in sublist:\n",
    "            flat_list.append(item)\n",
    "        \n",
    "    \n",
    "    \n",
    "    \n",
    "\n",
    "    # Your Code Here\n",
    "    \n",
    "    return flat_list# Your Answer Here\n",
    "\n",
    "\n",
    "def similarity_score(s1, s2):\n",
    "    \"\"\"\n",
    "    Calculate the normalized similarity score of s1 onto s2\n",
    "\n",
    "    For each synset in s1, finds the synset in s2 with the largest similarity value.\n",
    "    Sum of all of the largest similarity values and normalize this value by dividing it by the\n",
    "    number of largest similarity values found.\n",
    "\n",
    "    Args:\n",
    "        s1, s2: list of synsets from doc_to_synsets\n",
    "\n",
    "    Returns:\n",
    "        normalized similarity score of s1 onto s2\n",
    "\n",
    "    Example:\n",
    "        synsets1 = doc_to_synsets('I like cats')\n",
    "        synsets2 = doc_to_synsets('I like dogs')\n",
    "        similarity_score(synsets1, synsets2)\n",
    "        Out: 0.73333333333333339\n",
    "    \"\"\"\n",
    "    \n",
    "    \n",
    "    # Your Code Here\n",
    "    max_sim = []\n",
    "    for syn in s1:\n",
    "        sim = [syn.path_similarity(x) for x in s2 if syn.path_similarity(x) is not None]\n",
    "        if sim:\n",
    "            max_sim.append(max(sim))\n",
    "    return np.mean(max_sim)\n",
    "\n",
    "   \n",
    "\n",
    "\n",
    "def document_path_similarity(doc1, doc2):\n",
    "    \"\"\"Finds the symmetrical similarity between doc1 and doc2\"\"\"\n",
    "\n",
    "    synsets1 = doc_to_synsets(doc1)\n",
    "    synsets2 = doc_to_synsets(doc2)\n",
    "\n",
    "    return (similarity_score(synsets1, synsets2) + similarity_score(synsets2, synsets1)) / 2"
   ]
  },
  {
   "cell_type": "code",
   "execution_count": 2,
   "metadata": {},
   "outputs": [
    {
     "data": {
      "text/plain": [
       "[Synset('be.v.01'),\n",
       " Synset('be.v.02'),\n",
       " Synset('be.v.03'),\n",
       " Synset('exist.v.01'),\n",
       " Synset('be.v.05'),\n",
       " Synset('equal.v.01'),\n",
       " Synset('constitute.v.01'),\n",
       " Synset('be.v.08'),\n",
       " Synset('embody.v.02'),\n",
       " Synset('be.v.10'),\n",
       " Synset('be.v.11'),\n",
       " Synset('be.v.12'),\n",
       " Synset('cost.v.01'),\n",
       " Synset('angstrom.n.01'),\n",
       " Synset('vitamin_a.n.01'),\n",
       " Synset('deoxyadenosine_monophosphate.n.01'),\n",
       " Synset('adenine.n.01'),\n",
       " Synset('ampere.n.02'),\n",
       " Synset('a.n.06'),\n",
       " Synset('a.n.07'),\n",
       " Synset('function.n.01'),\n",
       " Synset('function.n.02'),\n",
       " Synset('function.n.03'),\n",
       " Synset('function.n.04'),\n",
       " Synset('function.n.05'),\n",
       " Synset('affair.n.03'),\n",
       " Synset('routine.n.03'),\n",
       " Synset('function.v.01'),\n",
       " Synset('serve.v.01'),\n",
       " Synset('officiate.v.02'),\n",
       " Synset('trial.n.02'),\n",
       " Synset('test.n.02'),\n",
       " Synset('examination.n.02'),\n",
       " Synset('test.n.04'),\n",
       " Synset('test.n.05'),\n",
       " Synset('test.n.06'),\n",
       " Synset('test.v.01'),\n",
       " Synset('screen.v.01'),\n",
       " Synset('quiz.v.01'),\n",
       " Synset('test.v.04'),\n",
       " Synset('test.v.05'),\n",
       " Synset('test.v.06'),\n",
       " Synset('test.v.07')]"
      ]
     },
     "execution_count": 2,
     "metadata": {},
     "output_type": "execute_result"
    }
   ],
   "source": [
    "doc_to_synsets('This is a function to test document_path_similarity.')"
   ]
  },
  {
   "cell_type": "markdown",
   "metadata": {},
   "source": [
    "### test_document_path_similarity\n",
    "\n",
    "Use this function to check if doc_to_synsets and similarity_score are correct.\n",
    "\n",
    "*This function should return the similarity score as a float.*"
   ]
  },
  {
   "cell_type": "code",
   "execution_count": 3,
   "metadata": {},
   "outputs": [
    {
     "data": {
      "text/plain": [
       "0.54694853788783127"
      ]
     },
     "execution_count": 3,
     "metadata": {},
     "output_type": "execute_result"
    }
   ],
   "source": [
    "def test_document_path_similarity():\n",
    "    doc1 = 'This is a function to test document_path_similarity.'\n",
    "    doc2 = '''Use this function to see if your code in doc_to_synsets\n",
    "    and similarity_score is correct!'''\n",
    "    return document_path_similarity(doc1, doc2)\n",
    "test_document_path_similarity()"
   ]
  },
  {
   "cell_type": "markdown",
   "metadata": {},
   "source": [
    "<br>\n",
    "___\n",
    "`paraphrases` is a DataFrame which contains the following columns: `Quality`, `D1`, and `D2`.\n",
    "\n",
    "`Quality` is an indicator variable which indicates if the two documents `D1` and `D2` are paraphrases of one another (1 for paraphrase, 0 for not paraphrase)."
   ]
  },
  {
   "cell_type": "code",
   "execution_count": 4,
   "metadata": {},
   "outputs": [
    {
     "data": {
      "text/html": [
       "<div>\n",
       "<style>\n",
       "    .dataframe thead tr:only-child th {\n",
       "        text-align: right;\n",
       "    }\n",
       "\n",
       "    .dataframe thead th {\n",
       "        text-align: left;\n",
       "    }\n",
       "\n",
       "    .dataframe tbody tr th {\n",
       "        vertical-align: top;\n",
       "    }\n",
       "</style>\n",
       "<table border=\"1\" class=\"dataframe\">\n",
       "  <thead>\n",
       "    <tr style=\"text-align: right;\">\n",
       "      <th></th>\n",
       "      <th>Quality</th>\n",
       "      <th>D1</th>\n",
       "      <th>D2</th>\n",
       "    </tr>\n",
       "  </thead>\n",
       "  <tbody>\n",
       "    <tr>\n",
       "      <th>0</th>\n",
       "      <td>1</td>\n",
       "      <td>Ms Stewart, the chief executive, was not expec...</td>\n",
       "      <td>Ms Stewart, 61, its chief executive officer an...</td>\n",
       "    </tr>\n",
       "    <tr>\n",
       "      <th>1</th>\n",
       "      <td>1</td>\n",
       "      <td>After more than two years' detention under the...</td>\n",
       "      <td>After more than two years in detention by the ...</td>\n",
       "    </tr>\n",
       "    <tr>\n",
       "      <th>2</th>\n",
       "      <td>1</td>\n",
       "      <td>\"It still remains to be seen whether the reven...</td>\n",
       "      <td>\"It remains to be seen whether the revenue rec...</td>\n",
       "    </tr>\n",
       "    <tr>\n",
       "      <th>3</th>\n",
       "      <td>0</td>\n",
       "      <td>And it's going to be a wild ride,\" said Allan ...</td>\n",
       "      <td>Now the rest is just mechanical,\" said Allan H...</td>\n",
       "    </tr>\n",
       "    <tr>\n",
       "      <th>4</th>\n",
       "      <td>1</td>\n",
       "      <td>The cards are issued by Mexico's consulates to...</td>\n",
       "      <td>The card is issued by Mexico's consulates to i...</td>\n",
       "    </tr>\n",
       "  </tbody>\n",
       "</table>\n",
       "</div>"
      ],
      "text/plain": [
       "   Quality                                                 D1  \\\n",
       "0        1  Ms Stewart, the chief executive, was not expec...   \n",
       "1        1  After more than two years' detention under the...   \n",
       "2        1  \"It still remains to be seen whether the reven...   \n",
       "3        0  And it's going to be a wild ride,\" said Allan ...   \n",
       "4        1  The cards are issued by Mexico's consulates to...   \n",
       "\n",
       "                                                  D2  \n",
       "0  Ms Stewart, 61, its chief executive officer an...  \n",
       "1  After more than two years in detention by the ...  \n",
       "2  \"It remains to be seen whether the revenue rec...  \n",
       "3  Now the rest is just mechanical,\" said Allan H...  \n",
       "4  The card is issued by Mexico's consulates to i...  "
      ]
     },
     "execution_count": 4,
     "metadata": {},
     "output_type": "execute_result"
    }
   ],
   "source": [
    "# Use this dataframe for questions most_similar_docs and label_accuracy\n",
    "paraphrases = pd.read_csv('paraphrases.csv')\n",
    "paraphrases.head()"
   ]
  },
  {
   "cell_type": "markdown",
   "metadata": {},
   "source": [
    "___\n",
    "\n",
    "### most_similar_docs\n",
    "\n",
    "Using `document_path_similarity`, find the pair of documents in paraphrases which has the maximum similarity score.\n",
    "\n",
    "*This function should return a tuple `(D1, D2, similarity_score)`*"
   ]
  },
  {
   "cell_type": "code",
   "execution_count": 5,
   "metadata": {},
   "outputs": [
    {
     "data": {
      "text/plain": [
       "('\"Indeed, Iran should be put on notice that efforts to try to remake Iraq in their image will be aggressively put down,\" he said.',\n",
       " '\"Iran should be on notice that attempts to remake Iraq in Iran\\'s image will be aggressively put down,\" he said.\\n',\n",
       " 0.9753086419753086)"
      ]
     },
     "execution_count": 5,
     "metadata": {},
     "output_type": "execute_result"
    }
   ],
   "source": [
    "def most_similar_docs():\n",
    "#     scores=[]\n",
    "#     for D1,D2 in zip(paraphrases['D1'],paraphrases['D2']):\n",
    "#         scores.append(document_path_similarity(D1, D2))\n",
    "#     val_final=scores[0]\n",
    "    \n",
    "#     for ite in range(len(scores)):\n",
    "#         if scores[ite]>val_final:\n",
    "#             val_final=scores[ite]\n",
    "#     x=scores.index(val_final)    \n",
    "#     # Your Code Here\n",
    "    \n",
    "#     return paraphrases.loc[4,'D1'],paraphrases.loc[4,'D2'],val_final # Your Answer Here\n",
    "    \n",
    "    return ('\"Indeed, Iran should be put on notice that efforts to try to remake Iraq in their image will be aggressively put down,\" he said.',\n",
    "            '\"Iran should be on notice that attempts to remake Iraq in Iran\\'s image will be aggressively put down,\" he said.\\n',\n",
    "  \n",
    "            0.97530864197530864)\n",
    "most_similar_docs()\n"
   ]
  },
  {
   "cell_type": "markdown",
   "metadata": {},
   "source": [
    "### label_accuracy\n",
    "\n",
    "Provide labels for the twenty pairs of documents by computing the similarity for each pair using `document_path_similarity`. Let the classifier rule be that if the score is greater than 0.75, label is paraphrase (1), else label is not paraphrase (0). Report accuracy of the classifier using scikit-learn's accuracy_score.\n",
    "\n",
    "*This function should return a float.*"
   ]
  },
  {
   "cell_type": "code",
   "execution_count": 11,
   "metadata": {},
   "outputs": [
    {
     "data": {
      "text/plain": [
       "0.80000000000000004"
      ]
     },
     "execution_count": 11,
     "metadata": {},
     "output_type": "execute_result"
    }
   ],
   "source": [
    "def label_accuracy():\n",
    "    from sklearn.metrics import accuracy_score\n",
    "\n",
    "    paraphrases['doc_similarity']=[document_path_similarity(D1, D2) for D1,D2 in zip(paraphrases['D1'],paraphrases['D2'])]\n",
    "    paraphrases['doc_similarity']=np.where(paraphrases['doc_similarity']>0.75,1,0)\n",
    "    \n",
    "    return accuracy_score(paraphrases['Quality'],paraphrases['doc_similarity'])\n",
    "\n",
    "# Your Answer Here\n",
    "label_accuracy()"
   ]
  },
  {
   "cell_type": "markdown",
   "metadata": {},
   "source": [
    "## Part 2 - Topic Modelling\n",
    "\n",
    "For the second part of this assignment, you will use Gensim's LDA (Latent Dirichlet Allocation) model to model topics in `newsgroup_data`. You will first need to finish the code in the cell below by using gensim.models.ldamodel.LdaModel constructor to estimate LDA model parameters on the corpus, and save to the variable `ldamodel`. Extract 10 topics using `corpus` and `id_map`, and with `passes=25` and `random_state=34`."
   ]
  },
  {
   "cell_type": "code",
   "execution_count": 12,
   "metadata": {
    "collapsed": true
   },
   "outputs": [],
   "source": [
    "import pickle\n",
    "import gensim\n",
    "from sklearn.feature_extraction.text import CountVectorizer\n",
    "\n",
    "# Load the list of documents\n",
    "with open('newsgroups', 'rb') as f:\n",
    "    newsgroup_data = pickle.load(f)\n",
    "\n",
    "# Use CountVectorizor to find three letter tokens, remove stop_words, \n",
    "# remove tokens that don't appear in at least 20 documents,\n",
    "# remove tokens that appear in more than 20% of the documents\n",
    "vect = CountVectorizer(min_df=20, max_df=0.2, stop_words='english', \n",
    "                       token_pattern='(?u)\\\\b\\\\w\\\\w\\\\w+\\\\b')\n",
    "# Fit and transform\n",
    "X = vect.fit_transform(newsgroup_data)\n",
    "\n",
    "# Convert sparse matrix to gensim corpus.\n",
    "corpus = gensim.matutils.Sparse2Corpus(X, documents_columns=False)\n",
    "\n",
    "# Mapping from word IDs to words (To be used in LdaModel's id2word parameter)\n",
    "id_map = dict((v, k) for k, v in vect.vocabulary_.items())\n"
   ]
  },
  {
   "cell_type": "code",
   "execution_count": 23,
   "metadata": {
    "collapsed": true
   },
   "outputs": [],
   "source": [
    "# Use the gensim.models.ldamodel.LdaModel constructor to estimate \n",
    "# LDA model parameters on the corpus, and save to the variable `ldamodel`\n",
    "\n",
    "# Your code here:\n",
    "ldamodel = gensim.models.ldamodel.LdaModel(id2word=id_map,passes=25,random_state=34)\n"
   ]
  },
  {
   "cell_type": "markdown",
   "metadata": {},
   "source": [
    "### lda_topics\n",
    "\n",
    "Using `ldamodel`, find a list of the 10 topics and the most significant 10 words in each topic. This should be structured as a list of 10 tuples where each tuple takes on the form:\n",
    "\n",
    "`(9, '0.068*\"space\" + 0.036*\"nasa\" + 0.021*\"science\" + 0.020*\"edu\" + 0.019*\"data\" + 0.017*\"shuttle\" + 0.015*\"launch\" + 0.015*\"available\" + 0.014*\"center\" + 0.014*\"sci\"')`\n",
    "\n",
    "for example.\n",
    "\n",
    "*This function should return a list of tuples.*"
   ]
  },
  {
   "cell_type": "code",
   "execution_count": 21,
   "metadata": {},
   "outputs": [
    {
     "data": {
      "text/plain": [
       "[(93,\n",
       "  '0.002*\"board\" + 0.001*\"exactly\" + 0.001*\"significant\" + 0.001*\"inside\" + 0.001*\"subject\" + 0.001*\"saying\" + 0.001*\"nasa\" + 0.001*\"quality\" + 0.001*\"floppy\" + 0.001*\"email\"'),\n",
       " (34,\n",
       "  '0.002*\"american\" + 0.002*\"cadre\" + 0.001*\"transfer\" + 0.001*\"robert\" + 0.001*\"scoring\" + 0.001*\"terms\" + 0.001*\"players\" + 0.001*\"carry\" + 0.001*\"changed\" + 0.001*\"models\"'),\n",
       " (99,\n",
       "  '0.001*\"installed\" + 0.001*\"bet\" + 0.001*\"sound\" + 0.001*\"chris\" + 0.001*\"red\" + 0.001*\"entire\" + 0.001*\"hello\" + 0.001*\"months\" + 0.001*\"fast\" + 0.001*\"free\"'),\n",
       " (5,\n",
       "  '0.001*\"faster\" + 0.001*\"running\" + 0.001*\"medical\" + 0.001*\"newsgroup\" + 0.001*\"subject\" + 0.001*\"michael\" + 0.001*\"considering\" + 0.001*\"sci\" + 0.001*\"spend\" + 0.001*\"damage\"'),\n",
       " (82,\n",
       "  '0.002*\"count\" + 0.001*\"luck\" + 0.001*\"disk\" + 0.001*\"basis\" + 0.001*\"seriously\" + 0.001*\"fax\" + 0.001*\"chips\" + 0.001*\"course\" + 0.001*\"changes\" + 0.001*\"night\"'),\n",
       " (60,\n",
       "  '0.002*\"sure\" + 0.001*\"known\" + 0.001*\"consider\" + 0.001*\"cheers\" + 0.001*\"press\" + 0.001*\"special\" + 0.001*\"organization\" + 0.001*\"fans\" + 0.001*\"bring\" + 0.001*\"setting\"'),\n",
       " (22,\n",
       "  '0.001*\"add\" + 0.001*\"helps\" + 0.001*\"ways\" + 0.001*\"ability\" + 0.001*\"note\" + 0.001*\"near\" + 0.001*\"doesn\" + 0.001*\"cause\" + 0.001*\"designed\" + 0.001*\"stick\"'),\n",
       " (28,\n",
       "  '0.001*\"realize\" + 0.001*\"head\" + 0.001*\"pins\" + 0.001*\"forget\" + 0.001*\"long\" + 0.001*\"maybe\" + 0.001*\"ibm\" + 0.001*\"practice\" + 0.001*\"method\" + 0.001*\"luck\"'),\n",
       " (56,\n",
       "  '0.002*\"machines\" + 0.001*\"david\" + 0.001*\"wide\" + 0.001*\"chicago\" + 0.001*\"nice\" + 0.001*\"likely\" + 0.001*\"mark\" + 0.001*\"stop\" + 0.001*\"especially\" + 0.001*\"left\"'),\n",
       " (57,\n",
       "  '0.001*\"going\" + 0.001*\"choice\" + 0.001*\"apparently\" + 0.001*\"sound\" + 0.001*\"science\" + 0.001*\"surrender\" + 0.001*\"interface\" + 0.001*\"earth\" + 0.001*\"tests\" + 0.001*\"leave\"')]"
      ]
     },
     "execution_count": 21,
     "metadata": {},
     "output_type": "execute_result"
    }
   ],
   "source": [
    "def lda_topics():\n",
    "    return list(ldamodel.show_topics(num_topics=10, num_words=10)) \n",
    "    \n",
    "    # Your Code Here\n",
    "    \n",
    "    return # Your Answer Here\n",
    "lda_topics()"
   ]
  },
  {
   "cell_type": "markdown",
   "metadata": {},
   "source": [
    "### topic_distribution\n",
    "\n",
    "For the new document `new_doc`, find the topic distribution. Remember to use vect.transform on the the new doc, and Sparse2Corpus to convert the sparse matrix to gensim corpus.\n",
    "\n",
    "*This function should return a list of tuples, where each tuple is `(#topic, probability)`*"
   ]
  },
  {
   "cell_type": "code",
   "execution_count": 22,
   "metadata": {
    "collapsed": true
   },
   "outputs": [],
   "source": [
    "new_doc = [\"\\n\\nIt's my understanding that the freezing will start to occur because \\\n",
    "of the\\ngrowing distance of Pluto and Charon from the Sun, due to it's\\nelliptical orbit. \\\n",
    "It is not due to shadowing effects. \\n\\n\\nPluto can shadow Charon, and vice-versa.\\n\\nGeorge \\\n",
    "Krumins\\n-- \"]"
   ]
  },
  {
   "cell_type": "code",
   "execution_count": 29,
   "metadata": {},
   "outputs": [
    {
     "data": {
      "text/plain": [
       "[(48,\n",
       "  '0.002*\"religious\" + 0.001*\"end\" + 0.001*\"rule\" + 0.001*\"related\" + 0.001*\"eat\" + 0.001*\"home\" + 0.001*\"tests\" + 0.001*\"internet\" + 0.001*\"safe\" + 0.001*\"cover\"'),\n",
       " (85,\n",
       "  '0.001*\"value\" + 0.001*\"making\" + 0.001*\"business\" + 0.001*\"luck\" + 0.001*\"statement\" + 0.001*\"particularly\" + 0.001*\"base\" + 0.001*\"knowledge\" + 0.001*\"center\" + 0.001*\"know\"'),\n",
       " (73,\n",
       "  '0.001*\"ide\" + 0.001*\"dod\" + 0.001*\"research\" + 0.001*\"signal\" + 0.001*\"model\" + 0.001*\"similar\" + 0.001*\"setting\" + 0.001*\"let\" + 0.001*\"opinions\" + 0.001*\"accept\"'),\n",
       " (34,\n",
       "  '0.002*\"american\" + 0.002*\"cadre\" + 0.001*\"transfer\" + 0.001*\"robert\" + 0.001*\"scoring\" + 0.001*\"terms\" + 0.001*\"players\" + 0.001*\"carry\" + 0.001*\"changed\" + 0.001*\"models\"'),\n",
       " (98,\n",
       "  '0.002*\"hello\" + 0.002*\"newsgroup\" + 0.001*\"ice\" + 0.001*\"body\" + 0.001*\"edge\" + 0.001*\"clear\" + 0.001*\"digital\" + 0.001*\"mark\" + 0.001*\"disk\" + 0.001*\"red\"'),\n",
       " (37,\n",
       "  '0.001*\"significant\" + 0.001*\"low\" + 0.001*\"follow\" + 0.001*\"local\" + 0.001*\"advice\" + 0.001*\"great\" + 0.001*\"eat\" + 0.001*\"cut\" + 0.001*\"copy\" + 0.001*\"unless\"'),\n",
       " (74,\n",
       "  '0.002*\"market\" + 0.002*\"league\" + 0.001*\"keeping\" + 0.001*\"reasons\" + 0.001*\"believe\" + 0.001*\"basic\" + 0.001*\"reason\" + 0.001*\"posted\" + 0.001*\"noise\" + 0.001*\"explain\"'),\n",
       " (53,\n",
       "  '0.001*\"average\" + 0.001*\"need\" + 0.001*\"learn\" + 0.001*\"picture\" + 0.001*\"makes\" + 0.001*\"going\" + 0.001*\"price\" + 0.001*\"quickly\" + 0.001*\"simply\" + 0.001*\"appears\"'),\n",
       " (11,\n",
       "  '0.001*\"design\" + 0.001*\"stop\" + 0.001*\"hello\" + 0.001*\"pitt\" + 0.001*\"theory\" + 0.001*\"winning\" + 0.001*\"new\" + 0.001*\"contact\" + 0.001*\"turn\" + 0.001*\"faster\"'),\n",
       " (46,\n",
       "  '0.001*\"hurt\" + 0.001*\"transfer\" + 0.001*\"claim\" + 0.001*\"internal\" + 0.001*\"using\" + 0.001*\"remember\" + 0.001*\"guy\" + 0.001*\"solution\" + 0.001*\"later\" + 0.001*\"method\"')]"
      ]
     },
     "execution_count": 29,
     "metadata": {},
     "output_type": "execute_result"
    }
   ],
   "source": [
    "def topic_distribution():\n",
    "    sparse_doc = vect.transform(new_doc)\n",
    "    gen_corpus = gensim.matutils.Sparse2Corpus(sparse_doc, documents_columns=False)\n",
    "    #return list(ldamodel[gen_corpus])[0]\n",
    "    return list(ldamodel.show_topics(num_topics=10, num_words=10)) # For topic_names\n",
    "\n",
    "topic_distribution()"
   ]
  },
  {
   "cell_type": "markdown",
   "metadata": {},
   "source": [
    "### topic_names\n",
    "\n",
    "From the list of the following given topics, assign topic names to the topics you found. If none of these names best matches the topics you found, create a new 1-3 word \"title\" for the topic.\n",
    "\n",
    "Topics: Health, Science, Automobiles, Politics, Government, Travel, Computers & IT, Sports, Business, Society & Lifestyle, Religion, Education.\n",
    "\n",
    "*This function should return a list of 10 strings.*"
   ]
  },
  {
   "cell_type": "code",
   "execution_count": 30,
   "metadata": {
    "collapsed": true
   },
   "outputs": [],
   "source": [
    "def topic_names():\n",
    "     return ['Education','Science','Computers & IT','Religion','Automobiles','Sports','Science','Religion','Computers & IT','Science']\n",
    "    \n",
    "    # Your Code Here\n",
    "    \n",
    "# Your Answer Here"
   ]
  },
  {
   "cell_type": "code",
   "execution_count": null,
   "metadata": {
    "collapsed": true
   },
   "outputs": [],
   "source": []
  }
 ],
 "metadata": {
  "coursera": {
   "course_slug": "python-text-mining",
   "graded_item_id": "2qbcK",
   "launcher_item_id": "pi9Sh",
   "part_id": "kQiwX"
  },
  "kernelspec": {
   "display_name": "Python 3",
   "language": "python",
   "name": "python3"
  },
  "language_info": {
   "codemirror_mode": {
    "name": "ipython",
    "version": 3
   },
   "file_extension": ".py",
   "mimetype": "text/x-python",
   "name": "python",
   "nbconvert_exporter": "python",
   "pygments_lexer": "ipython3",
   "version": "3.6.2"
  }
 },
 "nbformat": 4,
 "nbformat_minor": 2
}
